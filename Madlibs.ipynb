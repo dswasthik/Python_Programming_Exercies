{
 "cells": [
  {
   "cell_type": "code",
   "execution_count": 3,
   "metadata": {},
   "outputs": [
    {
     "name": "stdout",
     "output_type": "stream",
     "text": [
      "Adjective: rude\n",
      "Verb: blame\n",
      "Verb: poke\n",
      "Famous Person: Prakash\n",
      "Hey this guy Prakash is so rude. He always blame and poke the system\n"
     ]
    }
   ],
   "source": [
    "adj = input(\"Adjective: \")\n",
    "verb1 = input(\"Verb: \")\n",
    "verb2 = input(\"Verb: \")\n",
    "famous_person = input(\"Famous Person: \")\n",
    "madlib = f\"Hey this guy {famous_person} is so {adj}. He always {verb1} and {verb2} the system.\" \n",
    "print(madlib)"
   ]
  },
  {
   "cell_type": "code",
   "execution_count": null,
   "metadata": {},
   "outputs": [],
   "source": []
  }
 ],
 "metadata": {
  "kernelspec": {
   "display_name": "Python 3",
   "language": "python",
   "name": "python3"
  },
  "language_info": {
   "codemirror_mode": {
    "name": "ipython",
    "version": 3
   },
   "file_extension": ".py",
   "mimetype": "text/x-python",
   "name": "python",
   "nbconvert_exporter": "python",
   "pygments_lexer": "ipython3",
   "version": "3.7.6"
  }
 },
 "nbformat": 4,
 "nbformat_minor": 2
}
