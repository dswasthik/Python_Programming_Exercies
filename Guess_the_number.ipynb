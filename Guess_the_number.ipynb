{
 "cells": [
  {
   "cell_type": "code",
   "execution_count": 2,
   "metadata": {},
   "outputs": [
    {
     "name": "stdout",
     "output_type": "stream",
     "text": [
      "Guess a number between 1 and 10:4\n",
      "Sorry, guess again, Too high\n",
      "Guess a number between 1 and 10:2\n",
      "Sorry, guess again, Too high\n",
      "Guess a number between 1 and 10:1\n",
      "Congrats, you guessed the number 1 correctly !!\n"
     ]
    }
   ],
   "source": [
    "import random\n",
    "\n",
    "def guess(x):\n",
    "    random_number = random.randint(1, x)\n",
    "    guess = 0\n",
    "    while guess != random_number:\n",
    "        guess = int(input(f\"Guess a number between 1 and {x}:\"))\n",
    "        if guess < random_number:\n",
    "            print(\"Sorry, guess again, Too Low \")\n",
    "        elif guess > random_number:\n",
    "            print(\"Sorry, guess again, Too high\")\n",
    "        \n",
    "    print(f\"Congrats, you guessed the number {random_number} correctly !!\")\n",
    "\n",
    "def computer_guess():\n",
    "    low = 1\n",
    "    high = x\n",
    "    result = \"\"\n",
    "    while result != \"c\":\n",
    "        if low != high:\n",
    "            guess = random.randint(low, high)\n",
    "        else:\n",
    "            guess = low\n",
    "        result = input(f\"Is {guess} too high (H), too low (L) or correct(C)??\").lower()\n",
    "        if result == \"h\":\n",
    "            high = guess - 1\n",
    "            \n",
    "        elif result == \"l\":\n",
    "            low = guess + 1\n",
    "            \n",
    "    print(f\"Congrats, you guessed the number {random_number} correctly !!\")\n",
    "            \n",
    "            \n",
    "    \n",
    "    \n",
    "    \n",
    "                    \n",
    "  \n",
    "\n",
    "\n",
    "guess(10)"
   ]
  },
  {
   "cell_type": "code",
   "execution_count": null,
   "metadata": {},
   "outputs": [],
   "source": []
  }
 ],
 "metadata": {
  "kernelspec": {
   "display_name": "Python 3",
   "language": "python",
   "name": "python3"
  },
  "language_info": {
   "codemirror_mode": {
    "name": "ipython",
    "version": 3
   },
   "file_extension": ".py",
   "mimetype": "text/x-python",
   "name": "python",
   "nbconvert_exporter": "python",
   "pygments_lexer": "ipython3",
   "version": "3.7.6"
  }
 },
 "nbformat": 4,
 "nbformat_minor": 2
}
